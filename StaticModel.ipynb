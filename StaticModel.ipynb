{
 "cells": [
  {
   "cell_type": "code",
   "execution_count": 221,
   "metadata": {},
   "outputs": [],
   "source": [
    "import torch \n",
    "import torch.nn as nn\n",
    "from  torch.functional import F\n",
    "from torch.utils.data import DataLoader, Dataset\n",
    "from fastai import *\n",
    "from fastai.vision import *\n",
    "from fastai.callbacks import *\n",
    "# from fastai import *\n",
    "# from fastai.utils import *"
   ]
  },
  {
   "cell_type": "code",
   "execution_count": 2,
   "metadata": {},
   "outputs": [],
   "source": [
    "class GeneralReLU(nn.Module):\n",
    " \t\t\"\"\"docstring for GeneralReLU\"\"\"\n",
    " \t\tdef __init__(self, leak=None, sub=None, maxv=None):\n",
    " \t\t\tsuper(GeneralReLU, self).__init__()\n",
    " \t\t\tself.leak, self.sub, self.maxv = leak, sub, maxv\n",
    " \t\t\n",
    " \t\tdef forward(self, x):\n",
    " \t\t\tx = F.leaky_relu(x, self.leak) if self.leak is not None else F.relu(x)\n",
    " \t\t\tif self.sub is not None: x.sub_(self.sub)\n",
    " \t\t\tif self.maxv is not None: x.clamp_max_(self.maxv)\n",
    " \t\t\treturn x\n",
    "\n",
    "def conv_layer(ni, nf, ks, stride=1, padding=None, leak=None, sub=None, maxv=None, bn=False, dp=None, **kwargs):\n",
    "\tpadding = padding or ks//2\n",
    "\tconv = nn.Conv2d(ni, nf, kernel_size=ks, stride=stride, padding=padding)\n",
    "\tlayers = [conv]\n",
    "\tif bn is not None: layers.append(nn.BatchNorm2d(nf))\n",
    "\tif dp is not None: layers.append(nn.Dropout(dp))\n",
    "\trelu = GeneralReLU(leak, sub, maxv)\n",
    "\tlayers.append(relu)\n",
    "\treturn nn.Sequential(*layers)\n",
    "\n",
    "def linear_layer(ni, no, leak=None, sub=None, maxv=None, **kwargs):\n",
    "\treturn nn.Sequential(nn.Linear(ni, no), \n",
    "\t\t\t\t\t\t GeneralReLU(leak, sub, maxv))"
   ]
  },
  {
   "cell_type": "code",
   "execution_count": 3,
   "metadata": {},
   "outputs": [],
   "source": [
    "class AdaptiveConcatPool2d(nn.Module):\n",
    "    \"Layer that concats `AdaptiveAvgPool2d` and `AdaptiveMaxPool2d`.\"\n",
    "    def __init__(self, sz=1, **kwargs):\n",
    "        \"Output will be 2*sz or 2 if sz is None\"\n",
    "        super(AdaptiveConcatPool2d, self).__init__()\n",
    "        self.ap = nn.AdaptiveAvgPool2d(sz)\n",
    "        self.mp = nn.AdaptiveMaxPool2d(sz)\n",
    "\n",
    "    def forward(self, x): return torch.cat([self.mp(x), self.ap(x)], 1)"
   ]
  },
  {
   "cell_type": "code",
   "execution_count": 4,
   "metadata": {},
   "outputs": [],
   "source": [
    "class CNNModel(nn.Module):\n",
    "    \"\"\"docstring for EyeMosel\"\"\"\n",
    "    def __init__(self, params=[], **kwargs):\n",
    "        super(CNNModel, self).__init__()\n",
    "        self.params = params\n",
    "        self.layers = [conv_layer(*param, **kwargs) for param in  self.params]\n",
    "        self.features = nn.Sequential(*self.layers)\n",
    "        self.pool = AdaptiveConcatPool2d(**kwargs)\n",
    "        self.flatten = nn.Flatten()\n",
    "    def forward(self, x):\n",
    "        x = self.features(x)\n",
    "        x = self.pool(x)\n",
    "        x = self.flatten(x)\n",
    "#         x = x.view(x.size(0), -1)\n",
    "        return x"
   ]
  },
  {
   "cell_type": "code",
   "execution_count": null,
   "metadata": {},
   "outputs": [],
   "source": []
  },
  {
   "cell_type": "code",
   "execution_count": null,
   "metadata": {},
   "outputs": [],
   "source": []
  },
  {
   "cell_type": "code",
   "execution_count": 75,
   "metadata": {},
   "outputs": [],
   "source": [
    "params = \\\n",
    "[\n",
    "    [3, 64, 7, 2],\n",
    "    [64, 128, 3],\n",
    "    [128, 256, 3, 2],\n",
    "    [256, 512, 3, 2],\n",
    "    [512, 256, 1, 2],#?\n",
    "    [1024, 256]\n",
    "]"
   ]
  },
  {
   "cell_type": "code",
   "execution_count": 96,
   "metadata": {},
   "outputs": [],
   "source": [
    "class EyeModel(nn.Module):\n",
    "    \"\"\"docstring for EyeMosel\"\"\"\n",
    "    def __init__(self, params=[[]], **kwargs):\n",
    "        super(EyeModel, self).__init__()\n",
    "        self.params = params\n",
    "        self.cnn = CNNModel(self.params[:-1], **kwargs)\n",
    "        self.fc = linear_layer(*params[-1], **kwargs)\n",
    "    def forward(self, xl, xr):\n",
    "        xl = self.cnn(xl)\n",
    "        xr = self.cnn(xr)\n",
    "        x = torch.cat((xl, xr), 1)\n",
    "        x = self.fc(x)\n",
    "        return x"
   ]
  },
  {
   "cell_type": "code",
   "execution_count": 97,
   "metadata": {},
   "outputs": [],
   "source": [
    "eye = EyeModel(params)"
   ]
  },
  {
   "cell_type": "code",
   "execution_count": 98,
   "metadata": {},
   "outputs": [
    {
     "data": {
      "text/plain": [
       "torch.Size([8, 256])"
      ]
     },
     "execution_count": 98,
     "metadata": {},
     "output_type": "execute_result"
    }
   ],
   "source": [
    "x = torch.randn([8, 3, 56, 56])\n",
    "eye(x, x).size()"
   ]
  },
  {
   "cell_type": "code",
   "execution_count": null,
   "metadata": {},
   "outputs": [],
   "source": []
  },
  {
   "cell_type": "code",
   "execution_count": null,
   "metadata": {},
   "outputs": [],
   "source": []
  },
  {
   "cell_type": "code",
   "execution_count": 99,
   "metadata": {},
   "outputs": [],
   "source": [
    "params = \\\n",
    "[\n",
    "    [1, 64, 3, 2],\n",
    "    [64, 128, 3],\n",
    "    [256, 64]\n",
    "]"
   ]
  },
  {
   "cell_type": "code",
   "execution_count": 100,
   "metadata": {},
   "outputs": [],
   "source": [
    "class FaceGridModel(nn.Module):\n",
    "    # Model for the face grid pathway\n",
    "    def __init__(self, params=[[]], **kwargs):\n",
    "        super(FaceGridModel, self).__init__()\n",
    "        self.params = params\n",
    "        self.cnn = CNNModel(self.params[:-1], **kwargs)\n",
    "        self.fc = linear_layer(*params[-1], **kwargs)\n",
    "\n",
    "    def forward(self, x):\n",
    "\n",
    "        x = self.cnn(x)\n",
    "        x = self.fc(x)\n",
    "        return x"
   ]
  },
  {
   "cell_type": "code",
   "execution_count": 102,
   "metadata": {},
   "outputs": [],
   "source": [
    "face_grid = FaceGridModel(params)\n",
    "# face_grid"
   ]
  },
  {
   "cell_type": "code",
   "execution_count": 103,
   "metadata": {},
   "outputs": [
    {
     "data": {
      "text/plain": [
       "torch.Size([8, 1, 25, 25])"
      ]
     },
     "execution_count": 103,
     "metadata": {},
     "output_type": "execute_result"
    }
   ],
   "source": [
    "x = torch.randn([8, 1, 25, 25])\n",
    "x.size()"
   ]
  },
  {
   "cell_type": "code",
   "execution_count": 104,
   "metadata": {},
   "outputs": [
    {
     "data": {
      "text/plain": [
       "torch.Size([8, 64])"
      ]
     },
     "execution_count": 104,
     "metadata": {},
     "output_type": "execute_result"
    }
   ],
   "source": [
    "face_grid(x).size()"
   ]
  },
  {
   "cell_type": "code",
   "execution_count": 169,
   "metadata": {},
   "outputs": [],
   "source": []
  },
  {
   "cell_type": "code",
   "execution_count": null,
   "metadata": {},
   "outputs": [],
   "source": []
  },
  {
   "cell_type": "code",
   "execution_count": 114,
   "metadata": {},
   "outputs": [],
   "source": [
    "params = \\\n",
    "[\n",
    "    [3, 64, 7, 2],\n",
    "    [64, 128, 3],\n",
    "    [128, 256, 3, 2],\n",
    "    [256, 512, 3, 2],\n",
    "    [512, 256, 1, 2],#?\n",
    "    [512, 256]\n",
    "]"
   ]
  },
  {
   "cell_type": "code",
   "execution_count": 116,
   "metadata": {},
   "outputs": [],
   "source": [
    "class FaceModel(nn.Module):\n",
    "\t\"\"\"docstring for FaceModel\"\"\"\n",
    "\tdef __init__(self, params=[[]], **kwargs):\n",
    "\t\tsuper(FaceModel, self).__init__()\n",
    "\t\tself.params = params\n",
    "\t\tself.cnn = CNNModel(self.params[:-1], **kwargs)\n",
    "\t\tself.fc = linear_layer(*params[-1], **kwargs)\n",
    "\tdef forward(self, x):\n",
    "\t\tx = self.cnn(x)\n",
    "\t\tx = self.fc(x)\n",
    "\t\treturn x"
   ]
  },
  {
   "cell_type": "code",
   "execution_count": 117,
   "metadata": {},
   "outputs": [],
   "source": [
    "face = FaceModel(params)"
   ]
  },
  {
   "cell_type": "code",
   "execution_count": 118,
   "metadata": {},
   "outputs": [
    {
     "data": {
      "text/plain": [
       "torch.Size([8, 3, 56, 56])"
      ]
     },
     "execution_count": 118,
     "metadata": {},
     "output_type": "execute_result"
    }
   ],
   "source": [
    "x = torch.randn([8, 3, 56, 56])\n",
    "x.size()"
   ]
  },
  {
   "cell_type": "code",
   "execution_count": 119,
   "metadata": {},
   "outputs": [
    {
     "data": {
      "text/plain": [
       "torch.Size([8, 256])"
      ]
     },
     "execution_count": 119,
     "metadata": {},
     "output_type": "execute_result"
    }
   ],
   "source": [
    "face(x).size()"
   ]
  },
  {
   "cell_type": "code",
   "execution_count": null,
   "metadata": {},
   "outputs": [],
   "source": []
  },
  {
   "cell_type": "code",
   "execution_count": 129,
   "metadata": {},
   "outputs": [],
   "source": [
    "eye_params = \\\n",
    "[\n",
    "    [3, 64, 7, 2],\n",
    "    [64, 128, 3],\n",
    "    [128, 256, 3, 2],\n",
    "    [256, 512, 3, 2],\n",
    "    [512, 256, 1, 2],#?\n",
    "    [1024, 256]\n",
    "]\n",
    "face_params = \\\n",
    "[\n",
    "    [3, 64, 7, 2],\n",
    "    [64, 128, 3],\n",
    "    [128, 256, 3, 2],\n",
    "    [256, 512, 3, 2],\n",
    "    [512, 256, 1, 2],#?\n",
    "    [512, 256]\n",
    "]\n",
    "\n",
    "face_grid_params = \\\n",
    "[\n",
    "    [1, 64, 3, 2],\n",
    "    [64, 128, 3],\n",
    "    [256, 64]\n",
    "]"
   ]
  },
  {
   "cell_type": "code",
   "execution_count": 170,
   "metadata": {},
   "outputs": [],
   "source": [
    "class StaticModel(nn.Module):\n",
    "\t\"\"\"docstring for EncoderCNN\"\"\"\n",
    "\tdef __init__(self, eye_params=[[]], face_params=[[]], face_grid_params=[[]], pretrained=False):\n",
    "\t\tsuper(StaticModel, self).__init__()\n",
    "\t\tself.eye_params = eye_params\n",
    "\t\tself.face_params = face_params\n",
    "\t\tself.face_grid_params = face_grid_params\n",
    "\n",
    "\t\tself.eye_model = EyeModel(self.eye_params)\n",
    "\t\tself.face_model = FaceModel(self.face_params)\n",
    "\t\tself.face_grid_model = FaceGridModel(self.face_grid_params)\n",
    "\n",
    "\t\tself.fc1 = linear_layer(256+64, 128)\n",
    "\t\tself.fc2 = linear_layer(256+128, 128)\n",
    "\t\tself.out = nn.Linear(128, 2)\n",
    "\n",
    "\tdef forward(self, xf, xl, xr, xg):\n",
    "\t\t# eyes\n",
    "\t\txe = self.eye_model(xl, xr)#256\n",
    "\t\t#face and  grid\n",
    "\t\txf = self.face_model(xf)#256\n",
    "\t\txg = self.face_grid_model(xg)#64\n",
    "\t\txf = torch.cat((xf, xg), 1)\n",
    "\t\txf = self.fc1(xf)#128\n",
    "\n",
    "\t\tx = torch.cat((xe, xf), 1)\n",
    "\t\tx = self.fc2(x)#128\n",
    "\t\tx = self.out(x)\n",
    "\n",
    "\t\treturn x"
   ]
  },
  {
   "cell_type": "code",
   "execution_count": 218,
   "metadata": {
    "collapsed": true,
    "jupyter": {
     "outputs_hidden": true
    }
   },
   "outputs": [
    {
     "data": {
      "text/plain": [
       "StaticModel(\n",
       "  (eye_model): EyeModel(\n",
       "    (cnn): CNNModel(\n",
       "      (features): Sequential(\n",
       "        (0): Sequential(\n",
       "          (0): Conv2d(3, 64, kernel_size=(7, 7), stride=(2, 2), padding=(3, 3))\n",
       "          (1): BatchNorm2d(64, eps=1e-05, momentum=0.1, affine=True, track_running_stats=True)\n",
       "          (2): GeneralReLU()\n",
       "        )\n",
       "        (1): Sequential(\n",
       "          (0): Conv2d(64, 128, kernel_size=(3, 3), stride=(1, 1), padding=(1, 1))\n",
       "          (1): BatchNorm2d(128, eps=1e-05, momentum=0.1, affine=True, track_running_stats=True)\n",
       "          (2): GeneralReLU()\n",
       "        )\n",
       "        (2): Sequential(\n",
       "          (0): Conv2d(128, 256, kernel_size=(3, 3), stride=(2, 2), padding=(1, 1))\n",
       "          (1): BatchNorm2d(256, eps=1e-05, momentum=0.1, affine=True, track_running_stats=True)\n",
       "          (2): GeneralReLU()\n",
       "        )\n",
       "        (3): Sequential(\n",
       "          (0): Conv2d(256, 512, kernel_size=(3, 3), stride=(2, 2), padding=(1, 1))\n",
       "          (1): BatchNorm2d(512, eps=1e-05, momentum=0.1, affine=True, track_running_stats=True)\n",
       "          (2): GeneralReLU()\n",
       "        )\n",
       "        (4): Sequential(\n",
       "          (0): Conv2d(512, 256, kernel_size=(1, 1), stride=(2, 2))\n",
       "          (1): BatchNorm2d(256, eps=1e-05, momentum=0.1, affine=True, track_running_stats=True)\n",
       "          (2): GeneralReLU()\n",
       "        )\n",
       "      )\n",
       "      (pool): AdaptiveConcatPool2d(\n",
       "        (ap): AdaptiveAvgPool2d(output_size=1)\n",
       "        (mp): AdaptiveMaxPool2d(output_size=1)\n",
       "      )\n",
       "      (flatten): Flatten()\n",
       "    )\n",
       "    (fc): Sequential(\n",
       "      (0): Linear(in_features=1024, out_features=256, bias=True)\n",
       "      (1): GeneralReLU()\n",
       "    )\n",
       "  )\n",
       "  (face_model): FaceModel(\n",
       "    (cnn): CNNModel(\n",
       "      (features): Sequential(\n",
       "        (0): Sequential(\n",
       "          (0): Conv2d(3, 64, kernel_size=(7, 7), stride=(2, 2), padding=(3, 3))\n",
       "          (1): BatchNorm2d(64, eps=1e-05, momentum=0.1, affine=True, track_running_stats=True)\n",
       "          (2): GeneralReLU()\n",
       "        )\n",
       "        (1): Sequential(\n",
       "          (0): Conv2d(64, 128, kernel_size=(3, 3), stride=(1, 1), padding=(1, 1))\n",
       "          (1): BatchNorm2d(128, eps=1e-05, momentum=0.1, affine=True, track_running_stats=True)\n",
       "          (2): GeneralReLU()\n",
       "        )\n",
       "        (2): Sequential(\n",
       "          (0): Conv2d(128, 256, kernel_size=(3, 3), stride=(2, 2), padding=(1, 1))\n",
       "          (1): BatchNorm2d(256, eps=1e-05, momentum=0.1, affine=True, track_running_stats=True)\n",
       "          (2): GeneralReLU()\n",
       "        )\n",
       "        (3): Sequential(\n",
       "          (0): Conv2d(256, 512, kernel_size=(3, 3), stride=(2, 2), padding=(1, 1))\n",
       "          (1): BatchNorm2d(512, eps=1e-05, momentum=0.1, affine=True, track_running_stats=True)\n",
       "          (2): GeneralReLU()\n",
       "        )\n",
       "        (4): Sequential(\n",
       "          (0): Conv2d(512, 256, kernel_size=(1, 1), stride=(2, 2))\n",
       "          (1): BatchNorm2d(256, eps=1e-05, momentum=0.1, affine=True, track_running_stats=True)\n",
       "          (2): GeneralReLU()\n",
       "        )\n",
       "      )\n",
       "      (pool): AdaptiveConcatPool2d(\n",
       "        (ap): AdaptiveAvgPool2d(output_size=1)\n",
       "        (mp): AdaptiveMaxPool2d(output_size=1)\n",
       "      )\n",
       "      (flatten): Flatten()\n",
       "    )\n",
       "    (fc): Sequential(\n",
       "      (0): Linear(in_features=512, out_features=256, bias=True)\n",
       "      (1): GeneralReLU()\n",
       "    )\n",
       "  )\n",
       "  (face_grid_model): FaceGridModel(\n",
       "    (cnn): CNNModel(\n",
       "      (features): Sequential(\n",
       "        (0): Sequential(\n",
       "          (0): Conv2d(1, 64, kernel_size=(3, 3), stride=(2, 2), padding=(1, 1))\n",
       "          (1): BatchNorm2d(64, eps=1e-05, momentum=0.1, affine=True, track_running_stats=True)\n",
       "          (2): GeneralReLU()\n",
       "        )\n",
       "        (1): Sequential(\n",
       "          (0): Conv2d(64, 128, kernel_size=(3, 3), stride=(1, 1), padding=(1, 1))\n",
       "          (1): BatchNorm2d(128, eps=1e-05, momentum=0.1, affine=True, track_running_stats=True)\n",
       "          (2): GeneralReLU()\n",
       "        )\n",
       "      )\n",
       "      (pool): AdaptiveConcatPool2d(\n",
       "        (ap): AdaptiveAvgPool2d(output_size=1)\n",
       "        (mp): AdaptiveMaxPool2d(output_size=1)\n",
       "      )\n",
       "      (flatten): Flatten()\n",
       "    )\n",
       "    (fc): Sequential(\n",
       "      (0): Linear(in_features=256, out_features=64, bias=True)\n",
       "      (1): GeneralReLU()\n",
       "    )\n",
       "  )\n",
       "  (fc1): Sequential(\n",
       "    (0): Linear(in_features=320, out_features=128, bias=True)\n",
       "    (1): GeneralReLU()\n",
       "  )\n",
       "  (fc2): Sequential(\n",
       "    (0): Linear(in_features=384, out_features=128, bias=True)\n",
       "    (1): GeneralReLU()\n",
       "  )\n",
       "  (out): Linear(in_features=128, out_features=2, bias=True)\n",
       ")"
      ]
     },
     "execution_count": 218,
     "metadata": {},
     "output_type": "execute_result"
    }
   ],
   "source": [
    "model = StaticModel(eye_params, face_params, face_grid_params)\n",
    "model"
   ]
  },
  {
   "cell_type": "markdown",
   "metadata": {},
   "source": [
    "# Dataset"
   ]
  },
  {
   "cell_type": "code",
   "execution_count": null,
   "metadata": {},
   "outputs": [],
   "source": []
  },
  {
   "cell_type": "code",
   "execution_count": 227,
   "metadata": {},
   "outputs": [],
   "source": [
    "class DataRandom(Dataset):\n",
    "    def __init__(self, imSize=[56, 56], gridSize=[25, 25]):\n",
    "        self.imSize = imSize\n",
    "        self.gridSize = gridSize\n",
    "    def __getitem__(self, index):\n",
    "        imFace = torch.randn([3] + self.imSize)\n",
    "        imGrid = torch.randn([1] + self.gridSize)\n",
    "        imEye = torch.randn([3] + self.imSize)\n",
    "        y = torch.randn(2)\n",
    "        x = (imFace, imEye, imEye, imGrid)\n",
    "        return x, y\n",
    "    def __len__(self):\n",
    "        return 5*8"
   ]
  },
  {
   "cell_type": "code",
   "execution_count": null,
   "metadata": {},
   "outputs": [],
   "source": []
  },
  {
   "cell_type": "code",
   "execution_count": 228,
   "metadata": {},
   "outputs": [],
   "source": [
    "dataset = DataRandom()"
   ]
  },
  {
   "cell_type": "code",
   "execution_count": 229,
   "metadata": {},
   "outputs": [],
   "source": [
    "bs = 8\n",
    "dataloader = DataLoader(dataset, bs)"
   ]
  },
  {
   "cell_type": "code",
   "execution_count": 230,
   "metadata": {},
   "outputs": [],
   "source": [
    "db = DataBunch(dataloader, dataloader, test_dl=dataloader)"
   ]
  },
  {
   "cell_type": "code",
   "execution_count": 231,
   "metadata": {},
   "outputs": [],
   "source": [
    "learn = Learner(db, model, loss_func=mean_squared_error)"
   ]
  },
  {
   "cell_type": "code",
   "execution_count": 235,
   "metadata": {},
   "outputs": [
    {
     "data": {
      "text/html": [],
      "text/plain": [
       "<IPython.core.display.HTML object>"
      ]
     },
     "metadata": {},
     "output_type": "display_data"
    },
    {
     "name": "stdout",
     "output_type": "stream",
     "text": [
      "LR Finder is complete, type {learner_name}.recorder.plot() to see the graph.\n"
     ]
    }
   ],
   "source": [
    "learn.lr_find(num_it=50)"
   ]
  },
  {
   "cell_type": "code",
   "execution_count": 236,
   "metadata": {},
   "outputs": [
    {
     "data": {
      "image/png": "[encoded data removed]",
      "text/plain": [
       "<Figure size 432x288 with 1 Axes>"
      ]
     },
     "metadata": {
      "needs_background": "light"
     },
     "output_type": "display_data"
    }
   ],
   "source": [
    "learn.recorder.plot()"
   ]
  },
  {
   "cell_type": "code",
   "execution_count": 238,
   "metadata": {},
   "outputs": [],
   "source": [
    "cbs = [SaveModelCallback(learn, every=\"epoch\", name='checkpoint')]"
   ]
  },
  {
   "cell_type": "code",
   "execution_count": 239,
   "metadata": {},
   "outputs": [
    {
     "data": {
      "text/html": [
       "<table border=\"1\" class=\"dataframe\">\n",
       "  <thead>\n",
       "    <tr style=\"text-align: left;\">\n",
       "      <th>epoch</th>\n",
       "      <th>train_loss</th>\n",
       "      <th>valid_loss</th>\n",
       "      <th>time</th>\n",
       "    </tr>\n",
       "  </thead>\n",
       "  <tbody>\n",
       "    <tr>\n",
       "      <td>0</td>\n",
       "      <td>0.994409</td>\n",
       "      <td>1.291697</td>\n",
       "      <td>00:07</td>\n",
       "    </tr>\n",
       "  </tbody>\n",
       "</table>"
      ],
      "text/plain": [
       "<IPython.core.display.HTML object>"
      ]
     },
     "metadata": {},
     "output_type": "display_data"
    }
   ],
   "source": [
    "learn.fit_one_cycle(1, 1e-5, callbacks=cbs)"
   ]
  },
  {
   "cell_type": "code",
   "execution_count": 183,
   "metadata": {},
   "outputs": [
    {
     "data": {
      "image/png": "[encoded data removed]",
      "text/plain": [
       "<Figure size 432x288 with 1 Axes>"
      ]
     },
     "metadata": {
      "needs_background": "light"
     },
     "output_type": "display_data"
    }
   ],
   "source": [
    "learn.recorder.plot_losses()"
   ]
  },
  {
   "cell_type": "code",
   "execution_count": 213,
   "metadata": {},
   "outputs": [
    {
     "name": "stdout",
     "output_type": "stream",
     "text": [
      "tensor([[ 0.0092, -0.0015, -0.0487, -0.0411, -0.0519,  0.0780, -0.0314],\n",
      "        [-0.0622,  0.0587,  0.0064, -0.0037, -0.0777,  0.0210, -0.0528],\n",
      "        [-0.0043, -0.0721, -0.0358, -0.0681,  0.0027,  0.0508,  0.0759],\n",
      "        [-0.0763, -0.0626, -0.0586,  0.0140, -0.0549, -0.0160, -0.0411],\n",
      "        [ 0.0785,  0.0021, -0.0369,  0.0103,  0.0058, -0.0612, -0.0479],\n",
      "        [-0.0119, -0.0072, -0.0497, -0.0679, -0.0257, -0.0359, -0.0521],\n",
      "        [ 0.0144, -0.0129,  0.0421,  0.0687, -0.0158, -0.0243,  0.0110]],\n",
      "       grad_fn=<SelectBackward>)\n"
     ]
    }
   ],
   "source": [
    "for p in model.named_parameters():\n",
    "    print(p[1][0][0])\n",
    "    break"
   ]
  },
  {
   "cell_type": "code",
   "execution_count": 201,
   "metadata": {},
   "outputs": [
    {
     "data": {
      "text/plain": [
       "Sequential(\n",
       "  (0): Linear(in_features=384, out_features=128, bias=True)\n",
       "  (1): GeneralReLU()\n",
       ")"
      ]
     },
     "execution_count": 201,
     "metadata": {},
     "output_type": "execute_result"
    }
   ],
   "source": []
  },
  {
   "cell_type": "code",
   "execution_count": 214,
   "metadata": {},
   "outputs": [],
   "source": [
    "m = nn.Sequential(*list(model.children()))"
   ]
  },
  {
   "cell_type": "code",
   "execution_count": 215,
   "metadata": {},
   "outputs": [
    {
     "name": "stdout",
     "output_type": "stream",
     "text": [
      "tensor([[ 0.0092, -0.0015, -0.0487, -0.0411, -0.0519,  0.0780, -0.0314],\n",
      "        [-0.0622,  0.0587,  0.0064, -0.0037, -0.0777,  0.0210, -0.0528],\n",
      "        [-0.0043, -0.0721, -0.0358, -0.0681,  0.0027,  0.0508,  0.0759],\n",
      "        [-0.0763, -0.0626, -0.0586,  0.0140, -0.0549, -0.0160, -0.0411],\n",
      "        [ 0.0785,  0.0021, -0.0369,  0.0103,  0.0058, -0.0612, -0.0479],\n",
      "        [-0.0119, -0.0072, -0.0497, -0.0679, -0.0257, -0.0359, -0.0521],\n",
      "        [ 0.0144, -0.0129,  0.0421,  0.0687, -0.0158, -0.0243,  0.0110]],\n",
      "       grad_fn=<SelectBackward>)\n"
     ]
    }
   ],
   "source": [
    "for p in m.named_parameters():\n",
    "    print(p[1][0][0])\n",
    "    break"
   ]
  },
  {
   "cell_type": "code",
   "execution_count": null,
   "metadata": {},
   "outputs": [],
   "source": []
  },
  {
   "cell_type": "code",
   "execution_count": null,
   "metadata": {},
   "outputs": [],
   "source": []
  }
 ],
 "metadata": {
  "kernelspec": {
   "display_name": "Python 3",
   "language": "python",
   "name": "python3"
  },
  "language_info": {
   "codemirror_mode": {
    "name": "ipython",
    "version": 3
   },
   "file_extension": ".py",
   "mimetype": "text/x-python",
   "name": "python",
   "nbconvert_exporter": "python",
   "pygments_lexer": "ipython3",
   "version": "3.7.5"
  }
 },
 "nbformat": 4,
 "nbformat_minor": 4
}
